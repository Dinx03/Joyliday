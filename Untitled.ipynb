{
 "cells": [
  {
   "cell_type": "code",
   "execution_count": null,
   "id": "55dea94e-f97b-4b86-8d44-cd7bb2559826",
   "metadata": {},
   "outputs": [],
   "source": [
    "pip install mysql-connector-python"
   ]
  },
  {
   "cell_type": "code",
   "execution_count": null,
   "id": "cb093567-8f7a-41f6-8440-15cde7924287",
   "metadata": {},
   "outputs": [],
   "source": [
    "pip install Flask"
   ]
  },
  {
   "cell_type": "code",
   "execution_count": null,
   "id": "251667b6-5c1d-4573-a6fc-0e7843280a39",
   "metadata": {},
   "outputs": [],
   "source": [
    "pip install flask-sqlalchemy"
   ]
  },
  {
   "cell_type": "code",
   "execution_count": null,
   "id": "5a36f63c-f4a6-4b35-9f06-680a6645f7fd",
   "metadata": {},
   "outputs": [],
   "source": [
    "pip install Flask-SQLAlchemy"
   ]
  },
  {
   "cell_type": "code",
   "execution_count": null,
   "id": "f4cee684-7571-478c-9e53-dec21dfe5adb",
   "metadata": {},
   "outputs": [],
   "source": [
    "pip show Flask-SQLAlchemy"
   ]
  },
  {
   "cell_type": "code",
   "execution_count": null,
   "id": "93b9230c-792d-4b09-9fcd-0efef369c2fc",
   "metadata": {},
   "outputs": [],
   "source": [
    "python -c \"import sys; print(sys.executable)\""
   ]
  },
  {
   "cell_type": "code",
   "execution_count": null,
   "id": "d2caa020-beec-44e7-ae6d-4e74729fab33",
   "metadata": {},
   "outputs": [],
   "source": [
    "pip install Flask Flask-SQLAlchemy Werkzeug"
   ]
  },
  {
   "cell_type": "code",
   "execution_count": null,
   "id": "77ff1af1-604d-4559-8c51-db80a7af9fc9",
   "metadata": {},
   "outputs": [],
   "source": [
    "pip list"
   ]
  },
  {
   "cell_type": "code",
   "execution_count": null,
   "id": "e3b9b28c-b397-4845-937f-331d28ced87b",
   "metadata": {},
   "outputs": [],
   "source": [
    "pip show Werkzeug"
   ]
  },
  {
   "cell_type": "code",
   "execution_count": null,
   "id": "ec263467-ede0-4b7e-944b-8c30d9fc00f5",
   "metadata": {},
   "outputs": [],
   "source": [
    "pip install pymysql"
   ]
  },
  {
   "cell_type": "code",
   "execution_count": null,
   "id": "1065b6f9-e4fe-409a-8dc1-9b6b41776379",
   "metadata": {},
   "outputs": [],
   "source": [
    "pip install flask mysql-connector-python"
   ]
  }
 ],
 "metadata": {
  "kernelspec": {
   "display_name": "Python 3 (ipykernel)",
   "language": "python",
   "name": "python3"
  },
  "language_info": {
   "codemirror_mode": {
    "name": "ipython",
    "version": 3
   },
   "file_extension": ".py",
   "mimetype": "text/x-python",
   "name": "python",
   "nbconvert_exporter": "python",
   "pygments_lexer": "ipython3",
   "version": "3.9.19"
  }
 },
 "nbformat": 4,
 "nbformat_minor": 5
}
